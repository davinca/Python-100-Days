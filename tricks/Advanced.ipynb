{
 "cells": [
  {
   "cell_type": "markdown",
   "metadata": {},
   "source": [
    "#装饰器decoration详解\n",
    "装饰器的各类实现，包括\n",
    "- 函数装饰器\n",
    "- 类装饰器\n",
    "- 闭包\n",
    "- 装饰器的嵌套\n",
    "\n",
    "### 函数装饰器：既可以装饰函数，也可以装饰类\n",
    "最经典的应用就是利用装饰器构造“单例模式”"
   ]
  },
  {
   "cell_type": "code",
   "execution_count": 3,
   "metadata": {},
   "outputs": [],
   "source": [
    "def Singleton(cls): # 这是一个函数，目的是要实现一个“装饰器”，而且是对类的装饰器\n",
    "    '''\n",
    "    cls: 类名，即所要设计的单例类名称\n",
    "    '''\n",
    "    instance = {}\n",
    "    def wrapper(*args, **kargs):\n",
    "        if cls not in instance:\n",
    "            instance[cls] = cls(*args, **kargs)\n",
    "            \n",
    "        return instance[cls]\n",
    "    \n",
    "    return wrapper\n",
    "\n",
    "@Singleton\n",
    "class Student(object):\n",
    "    def __init__(self, name, age):\n",
    "        self.name = name\n",
    "        self.age = age"
   ]
  },
  {
   "cell_type": "code",
   "execution_count": 5,
   "metadata": {},
   "outputs": [
    {
     "name": "stdout",
     "output_type": "stream",
     "text": [
      "2256405932408 2256405932408\n"
     ]
    }
   ],
   "source": [
    "s1 = Student('Tom', 14)\n",
    "s2 = Student('Jerry', 15)\n",
    "print(id(s1), id(s2))"
   ]
  },
  {
   "cell_type": "markdown",
   "metadata": {},
   "source": [
    "### 类装饰器\n",
    "1. 类装饰器装饰函数\n",
    "    - 第一：类装饰器的构造函数__init__就相当于是第一层（外层）的decorator，传入需要装饰的对象作为参数；\n",
    "    - 第二：类装饰器的魔法方法__call__相当于是第二层（内层）的wrapper，注意参数要统一，有返回值需要返回值。"
   ]
  },
  {
   "cell_type": "code",
   "execution_count": 31,
   "metadata": {},
   "outputs": [],
   "source": [
    "class MethodDecorator:\n",
    "    def __init__(self, function):\n",
    "        self.function = function\n",
    "    def __call__(self, *args, **kargs):\n",
    "        print('start ...')\n",
    "        self.function(*args, **kargs)\n",
    "        print('end!')\n",
    "\n",
    "@MethodDecorator\n",
    "def func(n):\n",
    "    while n > 0:\n",
    "        print('我是函数func')\n",
    "        n -= 1\n",
    "# func = MethodDecorator(func)\n",
    "# 右边： 将func作为参数传递给类的构造函数，返回一个实例对象\n",
    "# 本质上是 对象调用"
   ]
  },
  {
   "cell_type": "code",
   "execution_count": 32,
   "metadata": {},
   "outputs": [
    {
     "name": "stdout",
     "output_type": "stream",
     "text": [
      "<function f at 0x0000020D5C4DF730>\n"
     ]
    }
   ],
   "source": [
    "def f():\n",
    "    pass\n",
    "print(f)"
   ]
  },
  {
   "cell_type": "code",
   "execution_count": 33,
   "metadata": {},
   "outputs": [
    {
     "data": {
      "text/plain": [
       "__main__.MethodDecorator"
      ]
     },
     "execution_count": 33,
     "metadata": {},
     "output_type": "execute_result"
    }
   ],
   "source": [
    "type(func) # func 是实例对象"
   ]
  },
  {
   "cell_type": "code",
   "execution_count": 34,
   "metadata": {},
   "outputs": [
    {
     "name": "stdout",
     "output_type": "stream",
     "text": [
      "start ...\n",
      "我是函数func\n",
      "我是函数func\n",
      "end!\n"
     ]
    }
   ],
   "source": [
    "func(2)"
   ]
  },
  {
   "cell_type": "code",
   "execution_count": 35,
   "metadata": {},
   "outputs": [
    {
     "ename": "AttributeError",
     "evalue": "'MethodDecorator' object has no attribute '__name__'",
     "output_type": "error",
     "traceback": [
      "\u001b[1;31m---------------------------------------------------------------------------\u001b[0m",
      "\u001b[1;31mAttributeError\u001b[0m                            Traceback (most recent call last)",
      "\u001b[1;32m<ipython-input-35-88573da0f5d7>\u001b[0m in \u001b[0;36m<module>\u001b[1;34m()\u001b[0m\n\u001b[1;32m----> 1\u001b[1;33m \u001b[0mprint\u001b[0m\u001b[1;33m(\u001b[0m\u001b[0mfunc\u001b[0m\u001b[1;33m.\u001b[0m\u001b[0m__name__\u001b[0m\u001b[1;33m)\u001b[0m\u001b[1;33m\u001b[0m\u001b[0m\n\u001b[0m",
      "\u001b[1;31mAttributeError\u001b[0m: 'MethodDecorator' object has no attribute '__name__'"
     ]
    }
   ],
   "source": [
    "print(func.__name__)"
   ]
  },
  {
   "cell_type": "markdown",
   "metadata": {},
   "source": [
    "### 装饰器的缺点\n",
    "- 被函数装饰器所装饰的对象（函数、类）已经不再是它本身了，虽然从形式上看没有变化，本质上是函数装饰器的内部wrapper；\n",
    "\n",
    "- 被类装饰器所装饰的对象（函数、类）也不再是它本身了，虽然从形式上看没有变化，本质上是类装饰器的一个对象。"
   ]
  },
  {
   "cell_type": "code",
   "execution_count": null,
   "metadata": {},
   "outputs": [],
   "source": []
  }
 ],
 "metadata": {
  "kernelspec": {
   "display_name": "Python 3",
   "language": "python",
   "name": "python3"
  },
  "language_info": {
   "codemirror_mode": {
    "name": "ipython",
    "version": 3
   },
   "file_extension": ".py",
   "mimetype": "text/x-python",
   "name": "python",
   "nbconvert_exporter": "python",
   "pygments_lexer": "ipython3",
   "version": "3.6.5"
  }
 },
 "nbformat": 4,
 "nbformat_minor": 2
}
